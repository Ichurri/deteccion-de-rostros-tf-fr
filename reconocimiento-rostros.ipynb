{
 "cells": [
  {
   "cell_type": "code",
   "execution_count": 1,
   "metadata": {},
   "outputs": [],
   "source": [
    "import cv2\n",
    "import numpy as np\n",
    "from tensorflow.keras.models import load_model\n"
   ]
  },
  {
   "cell_type": "code",
   "execution_count": 2,
   "metadata": {},
   "outputs": [
    {
     "name": "stderr",
     "output_type": "stream",
     "text": [
      "WARNING:absl:Compiled the loaded model, but the compiled metrics have yet to be built. `model.compile_metrics` will be empty until you train or evaluate the model.\n"
     ]
    }
   ],
   "source": [
    "modelo_red_neuronal = load_model(\"modelo_rostros.h5\")\n",
    "\n",
    "personas = [\"Ichu\", \"Cami\", \"Saul\", \"Avl\"]"
   ]
  },
  {
   "cell_type": "code",
   "execution_count": null,
   "metadata": {},
   "outputs": [],
   "source": [
    "video = cv2.VideoCapture(0)\n",
    "\n",
    "while True:\n",
    "    ret, frame = video.read()\n",
    "    if not ret:\n",
    "        print(\"Error al capturar video. Saliendo...\")\n",
    "        break\n",
    "\n",
    "    # Convertir a escala de grises\n",
    "    gray = cv2.cvtColor(frame, cv2.COLOR_BGR2GRAY)\n",
    "\n",
    "    # Detección de rostros\n",
    "    face_cascade = cv2.CascadeClassifier(\"haarcascade_frontalface_default.xml\")\n",
    "    rostros = face_cascade.detectMultiScale(gray, scaleFactor=1.1, minNeighbors=6, minSize=(100, 100))\n",
    "\n",
    "    for x, y, w, h in rostros:\n",
    "        rostro = gray[y:y+h, x:x+w]\n",
    "        rostro = cv2.resize(rostro, (100, 100))\n",
    "        rostro = rostro.reshape(1, 100, 100, 1) / 255.0  # Normalización\n",
    "\n",
    "        # Predicción del modelo\n",
    "        prediccion = modelo_red_neuronal.predict(rostro)\n",
    "        etiqueta = np.argmax(prediccion)\n",
    "        probabilidad = np.max(prediccion)\n",
    "        nombre = personas[etiqueta]\n",
    "\n",
    "        # Dibujar rectángulo y mostrar la etiqueta\n",
    "        cv2.rectangle(frame, (x, y), (x+w, y+h), (0, 255, 0), 2)\n",
    "        texto = f\"{nombre}: {probabilidad:.2f}\"\n",
    "        cv2.putText(frame, texto, (x, y-10), cv2.FONT_HERSHEY_SIMPLEX, 0.9, (255, 0, 0), 2)\n",
    "\n",
    "    cv2.imshow(\"Reconocimiento de rostros\", frame)\n",
    "\n",
    "    if cv2.waitKey(1) & 0xFF == ord('q'):\n",
    "        break\n",
    "\n",
    "video.release()\n",
    "cv2.destroyAllWindows()"
   ]
  }
 ],
 "metadata": {
  "kernelspec": {
   "display_name": "Python 3",
   "language": "python",
   "name": "python3"
  },
  "language_info": {
   "codemirror_mode": {
    "name": "ipython",
    "version": 3
   },
   "file_extension": ".py",
   "mimetype": "text/x-python",
   "name": "python",
   "nbconvert_exporter": "python",
   "pygments_lexer": "ipython3",
   "version": "3.12.3"
  }
 },
 "nbformat": 4,
 "nbformat_minor": 2
}
